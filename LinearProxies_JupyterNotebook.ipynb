{
 "cells": [
  {
   "cell_type": "code",
   "execution_count": 1,
   "metadata": {},
   "outputs": [],
   "source": [
    "import numpy as np\n",
    "from sklearn.linear_model import LinearRegression\n",
    "from matplotlib import pyplot as plt"
   ]
  },
  {
   "cell_type": "code",
   "execution_count": 2,
   "metadata": {},
   "outputs": [],
   "source": [
    "def linear_costs(x, y, z, theta):\n",
    "    costs = (np.matmul(x,theta)-z)*(1-2*y)\n",
    "    return costs"
   ]
  },
  {
   "cell_type": "code",
   "execution_count": 3,
   "metadata": {},
   "outputs": [],
   "source": [
    "def paired_classifier(x, costs):\n",
    "    f = []\n",
    "    for cost in costs.T:\n",
    "        f.append(LinearRegression().fit(x, cost))\n",
    "    return f"
   ]
  },
  {
   "cell_type": "code",
   "execution_count": 4,
   "metadata": {},
   "outputs": [],
   "source": [
    "def obj_grad(objective, x, z, theta, n):\n",
    "    if objective=='MSE':\n",
    "        grad = 2*np.matmul(x.T,np.matmul(x,theta)-z)/n\n",
    "        return grad.flatten()\n",
    "    elif objective=='dot_product':\n",
    "        grad = np.matmul(x.T,z)/n\n",
    "        return grad.flatten()\n",
    "    else:\n",
    "        return 0"
   ]
  },
  {
   "cell_type": "code",
   "execution_count": 18,
   "metadata": {},
   "outputs": [],
   "source": [
    "def linear_proxies(x, y, z_all, C, iters, n, K, objective=None):\n",
    "    theta_list = []\n",
    "    grad_list = []\n",
    "    for k in range(0,K):\n",
    "        z = z_all[:,k].reshape(-1,1)\n",
    "        zhat = LinearRegression().fit(x, z)\n",
    "        theta = [np.transpose(zhat.coef_)]\n",
    "        grad_l = []\n",
    "        for t in range(1, iters):\n",
    "            costs = linear_costs(x, y, z, theta[t-1])\n",
    "            f_s = paired_classifier(x, costs)\n",
    "            val = []\n",
    "            h= [0]*n\n",
    "            for i, f in enumerate(f_s):\n",
    "                h_s = f.predict(x)\n",
    "                h[i] = h_s < 0\n",
    "                val.append(np.sum(h_s[h[i]]))\n",
    "            y_index = np.argmin(val)\n",
    "            y_temp = y[:,y_index]\n",
    "            h = h[y_index].astype(int)\n",
    "            if np.abs((np.sum(np.matmul(x,theta[t-1]))/np.sum(z)) - 1) >= np.abs(np.matmul((np.matmul(x,theta[t-1])-z).T,np.abs(h-y_temp))):\n",
    "                penalty = np.sign((np.sum(np.matmul(x,theta[t-1]))/np.sum(z)) - 1) * np.sum(x, axis=0)/np.sum(z)\n",
    "            else:\n",
    "                penalty = np.sign(np.matmul(np.transpose(np.matmul(x,theta[t-1])-z),np.abs(h-y_temp))) * np.matmul(np.transpose(x),np.abs(h-y_temp))  \n",
    "                penalty = penalty.flatten()\n",
    "            grad_l.append(obj_grad(objective,x,z,theta[t-1],n) + C * penalty) \n",
    "            theta.append(theta[t-1] - (np.power(t, -1/2) * grad_l[t-1]).reshape(-1,1))\n",
    "        theta_list.append(theta)\n",
    "        grad_list.append(grad_l)\n",
    "    return theta_list, grad_list"
   ]
  },
  {
   "cell_type": "code",
   "execution_count": null,
   "metadata": {},
   "outputs": [],
   "source": [
    "def calculate_hyperparameter_C(z, n, M, alpha):\n",
    "    C = (np.square(M)+2*(alpha*np.sum(z)/(1+n*M)))/(alpha*np.sum(z)/(1+n*M))\n",
    "    return C\n",
    "\n",
    "def calculate_hyperparameter_T(d, B, C, M, alpha, z, n):\n",
    "    T = ((d+1)**4)*np.square(2*M*B+n*C*B*(alpha*np.sum(z)/(1+n*M)))/np.square((alpha*np.sum(z)/(1+n*M)))\n",
    "    return int(T)"
   ]
  },
  {
   "cell_type": "code",
   "execution_count": null,
   "metadata": {
    "scrolled": true
   },
   "outputs": [
    {
     "name": "stdout",
     "output_type": "stream",
     "text": [
      "[[-0.0247473 ]\n",
      " [ 1.90317126]\n",
      " [-0.55915006]\n",
      " [-0.02158553]\n",
      " [ 0.04872278]\n",
      " [ 0.4720086 ]\n",
      " [ 1.0629163 ]\n",
      " [-0.88641109]\n",
      " [ 0.61624987]\n",
      " [ 0.77058634]]\n",
      "[[1.]\n",
      " [0.]\n",
      " [0.]\n",
      " [0.]\n",
      " [0.]\n",
      " [1.]\n",
      " [0.]\n",
      " [0.]\n",
      " [0.]\n",
      " [0.]]\n",
      "[[0.81718092]\n",
      " [1.11807189]\n",
      " [0.62195186]\n",
      " [0.79989688]\n",
      " [0.77482655]\n",
      " [0.90867143]\n",
      " [0.44865083]\n",
      " [0.69026599]\n",
      " [1.16268301]\n",
      " [0.55370212]]\n",
      "[[1.]\n",
      " [0.]\n",
      " [0.]\n",
      " [1.]\n",
      " [0.]\n",
      " [0.]\n",
      " [0.]\n",
      " [0.]\n",
      " [1.]\n",
      " [1.]]\n",
      "[[0.43709225]\n",
      " [0.75758218]\n",
      " [0.49410062]\n",
      " [1.45623375]\n",
      " [1.25629574]\n",
      " [0.8831517 ]\n",
      " [1.15357769]\n",
      " [1.65576589]\n",
      " [0.1417099 ]\n",
      " [1.01673458]]\n",
      "[[1.]\n",
      " [0.]\n",
      " [1.]\n",
      " [0.]\n",
      " [0.]\n",
      " [0.]\n",
      " [0.]\n",
      " [1.]\n",
      " [1.]\n",
      " [0.]]\n",
      "[[ 1.89423604]\n",
      " [ 3.38232204]\n",
      " [-0.43629074]\n",
      " [ 0.00711529]\n",
      " [ 2.43486353]\n",
      " [ 1.32690066]\n",
      " [ 0.08205358]\n",
      " [-0.01464153]\n",
      " [ 2.67693093]\n",
      " [-1.22156799]]\n",
      "[[0.]\n",
      " [1.]\n",
      " [0.]\n",
      " [1.]\n",
      " [1.]\n",
      " [1.]\n",
      " [1.]\n",
      " [0.]\n",
      " [1.]\n",
      " [0.]]\n"
     ]
    }
   ],
   "source": [
    "# np.random.seed(1) #Good\n",
    "np.random.seed(2) #Bad\n",
    "\n",
    "n = 10\n",
    "m = 1\n",
    "K = 1\n",
    "d = 1\n",
    "\n",
    "M = 2\n",
    "B = 1\n",
    "alpha = 0.3\n",
    "\n",
    "trials = 10\n",
    "intercept = np.ones(n).reshape(-1,1)\n",
    "discrepancy = []\n",
    "\n",
    "for i in range(0,trials):\n",
    "    x_train = np.random.rand(n,d)\n",
    "    x_train = np.hstack((intercept, x_train))\n",
    "    y_train = np.round(np.random.rand(n,m))\n",
    "    z_train = np.round(np.random.rand(n,K))\n",
    "    \n",
    "    C = calculate_hyperparameter_C(z_train, n, M, alpha)\n",
    "    T = calculate_hyperparameter_T(d, B, C, M, alpha, z_train, n)\n",
    "\n",
    "    coefficients, gradients = linear_proxies(x_train, y_train, z_train, C, T, n, K)\n",
    "\n",
    "    final_model = np.mean(coefficients, axis=1)\n",
    "    final_costs = linear_costs(x_train, y_train, z_train, final_model)\n",
    "    prc = paired_classifier(x_train, final_costs)\n",
    "    h_s = prc[0].predict(x_train)\n",
    "    h = h_s < 0\n",
    "    h_int = h.astype(int)\n",
    "    h_err = h_int != y_train\n",
    "    z_hat = np.matmul(x_train, final_model[0])\n",
    "    print(z_hat)\n",
    "    print(z_train)\n",
    "    #Check discrepancy\n",
    "    discrepancy.append(np.mean(z_train[h_err])/(np.mean(z_train)) - np.mean(z_hat[h_err])/(np.mean(z_hat)))\n",
    "    \n",
    "print(discrepancy)\n",
    "print(np.mean(discrepancy))"
   ]
  },
  {
   "cell_type": "code",
   "execution_count": 34,
   "metadata": {},
   "outputs": [
    {
     "data": {
      "text/plain": [
       "(array([1., 0., 0., 0., 1., 3., 2., 0., 1., 2.]),\n",
       " array([-0.99893649, -0.82265711, -0.64637772, -0.47009834, -0.29381896,\n",
       "        -0.11753957,  0.05873981,  0.23501919,  0.41129858,  0.58757796,\n",
       "         0.76385734]),\n",
       " <BarContainer object of 10 artists>)"
      ]
     },
     "execution_count": 34,
     "metadata": {},
     "output_type": "execute_result"
    },
    {
     "data": {
      "image/png": "[encoded data removed]",
      "text/plain": [
       "<Figure size 432x288 with 1 Axes>"
      ]
     },
     "metadata": {
      "needs_background": "light"
     },
     "output_type": "display_data"
    }
   ],
   "source": [
    "plt.hist(discrepancy)\n",
    "\n",
    "#Portion of discrepancies that fall in good range"
   ]
  },
  {
   "cell_type": "code",
   "execution_count": null,
   "metadata": {},
   "outputs": [],
   "source": [
    "coefficients_0 = [row[0] for row in coefficients[0]]\n",
    "plt.plot(coefficients_0)"
   ]
  },
  {
   "cell_type": "code",
   "execution_count": null,
   "metadata": {},
   "outputs": [],
   "source": [
    "coefficients_1 = [row[2] for row in coefficients[1]]\n",
    "plt.plot(coefficients_1)"
   ]
  },
  {
   "cell_type": "code",
   "execution_count": null,
   "metadata": {},
   "outputs": [],
   "source": [
    "gradients_0 = [row[0] for row in gradients[0]]\n",
    "plt.plot(gradients_0)"
   ]
  },
  {
   "cell_type": "code",
   "execution_count": null,
   "metadata": {},
   "outputs": [],
   "source": [
    "gradients_1 = [row[1] for row in gradients[1]]\n",
    "plt.plot(gradients_1)"
   ]
  },
  {
   "cell_type": "code",
   "execution_count": null,
   "metadata": {},
   "outputs": [],
   "source": [
    "#np.random.seed(1)\n",
    "n = 100\n",
    "m = 1\n",
    "K = 3\n",
    "d = 2\n",
    "intercept = np.ones(n).reshape(-1,1)\n",
    "x_train = np.random.rand(n,d)\n",
    "x_train = np.hstack((intercept, x_train))\n",
    "y_train = np.round(np.random.rand(n,m))\n",
    "z_train = np.round(np.random.rand(n,K))\n",
    "\n",
    "\n",
    "nonlinear_proxies(x_train, y_train, z_train, 1, 100000, 10, 100, 4)"
   ]
  },
  {
   "cell_type": "markdown",
   "metadata": {},
   "source": [
    "def nonlinear_proxies(x, y, z_all, C, T, W, n, K, objective=None):\n",
    "    zhat_list = []\n",
    "    for t in range(0,T):\n",
    "        noise = np.random.rand(n,W)\n",
    "        for w in range(0,W):\n",
    "            noise_w = noise[:,w]\n",
    "            Basically find lambda the same way"
   ]
  }
 ],
 "metadata": {
  "kernelspec": {
   "display_name": "Python 3",
   "language": "python",
   "name": "python3"
  },
  "language_info": {
   "codemirror_mode": {
    "name": "ipython",
    "version": 3
   },
   "file_extension": ".py",
   "mimetype": "text/x-python",
   "name": "python",
   "nbconvert_exporter": "python",
   "pygments_lexer": "ipython3",
   "version": "3.8.10"
  }
 },
 "nbformat": 4,
 "nbformat_minor": 5
}
