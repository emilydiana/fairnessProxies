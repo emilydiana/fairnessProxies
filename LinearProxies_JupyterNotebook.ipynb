{
 "cells": [
  {
   "cell_type": "code",
   "execution_count": 1,
   "metadata": {},
   "outputs": [],
   "source": [
    "import numpy as np\n",
    "from sklearn.linear_model import LinearRegression\n",
    "from matplotlib import pyplot as plt\n",
    "#import pdb"
   ]
  },
  {
   "cell_type": "code",
   "execution_count": 2,
   "metadata": {},
   "outputs": [],
   "source": [
    "def has_converged(x, size, epsilon):\n",
    "    for i in range(0,size):\n",
    "            if np.linalg.norm(x[-1:][0] - x[-(2+i):][0], np.inf) > epsilon:\n",
    "                return False\n",
    "    return True"
   ]
  },
  {
   "cell_type": "code",
   "execution_count": 3,
   "metadata": {},
   "outputs": [],
   "source": [
    "def linear_proxies(x, y, z, eta, iters, d, epsilon):\n",
    "\n",
    "    theta = [np.random.rand(d,1)]\n",
    "    grad_l = [0]\n",
    "    theta_average = [0]\n",
    "    converged = False\n",
    "    \n",
    "    for t in range(1, iters):\n",
    "        if converged:\n",
    "            break\n",
    "            \n",
    "        costs = (np.matmul(x,theta[t-1])-z)*(1-2*y)\n",
    "        \n",
    "        prc_1 = LinearRegression(fit_intercept=False).fit(x,costs)\n",
    "        prc_2 = LinearRegression(fit_intercept=False).fit(x,-costs)\n",
    "        \n",
    "        h_s_1 = prc_1.predict(x)\n",
    "        h_s_2 = prc_2.predict(x)\n",
    "        \n",
    "        #Costs and h_s are the same, but only on first round I think. Check this.\n",
    "        #Use matmul\n",
    "        h_1 = (h_s_1 > 0)       \n",
    "        h_2 = (h_s_2 > 0)\n",
    "    \n",
    "        if np.sum(h_s_1[h_1]) > np.sum(h_s_2[h_2]):\n",
    "            h = h_1\n",
    "        else:\n",
    "            h = h_2\n",
    "\n",
    "        h = h.astype(int)\n",
    "        \n",
    "        zhat = np.matmul(x,theta[t-1])        \n",
    "        zhat_sum = np.sum(zhat)\n",
    "        z_sum = np.sum(z)\n",
    "        err_points = np.abs(h-y)\n",
    "        \n",
    "        [[err_cost]] = np.matmul((zhat-z).T,err_points)\n",
    "        overall_diff = (zhat_sum/z_sum) - 1\n",
    "        \n",
    "        if np.abs(overall_diff) >= np.abs(err_cost):           \n",
    "            penalty = np.sign(overall_diff) * np.sum(x, axis=0)/z_sum\n",
    "            penalty = eta*penalty.reshape(-1,1)\n",
    "        else:\n",
    "            penalty = np.sign(err_cost) * np.matmul(np.transpose(x),err_points) \n",
    "            penalty = eta*penalty.reshape(-1,1)\n",
    "\n",
    "        grad_l.append(penalty)\n",
    "        new_theta = (theta[t-1] - grad_l[t])\n",
    "        \n",
    "        theta.append(new_theta)\n",
    "        theta_average.append((t*theta_average[t-1]+theta[t])/(t+1))\n",
    "        \n",
    "        if t > 10:\n",
    "            if has_converged(theta_average, 10, epsilon):\n",
    "                converged = True\n",
    "                    \n",
    "    return theta, grad_l, theta_average[-1]   "
   ]
  },
  {
   "cell_type": "code",
   "execution_count": 4,
   "metadata": {},
   "outputs": [],
   "source": [
    "def proxy_experiments(eta,T,trials,n,d,epsilon):\n",
    "    discrepancy_proxy = []\n",
    "    discrepancy_total = []\n",
    "    discrepancy_h = []\n",
    "    intercept = np.ones(n).reshape(-1,1)\n",
    "    max_list = []\n",
    "    \n",
    "    for i in range(0,trials):\n",
    "        z = np.round(np.random.rand(n,n))\n",
    "        theta = np.random.rand(n,n)\n",
    "        x = np.matmul(z, np.linalg.inv(theta))\n",
    "        x = np.hstack((intercept, x))\n",
    "        print(np.max(x))\n",
    "        max_list.append(np.max(x))\n",
    "        y = np.round(np.random.rand(n,1))\n",
    "        z = z[:,0].reshape(-1,1)\n",
    "\n",
    "        coefficients, gradients, theta_average = linear_proxies(x, y, z, eta, T, d, epsilon)\n",
    "\n",
    "        final_costs = (np.matmul(x,theta_average)-z)*(1-2*y)\n",
    "        prc = LinearRegression(fit_intercept=False).fit(x,final_costs)  \n",
    "        h_s = prc.predict(x)\n",
    "        h_plus = (h_s > 0)\n",
    "        h_minus = (h_s < 0)\n",
    "\n",
    "        if np.sum(h_s[h_plus]) > -np.sum(h_s[h_minus]):\n",
    "            h = h_plus\n",
    "        else:\n",
    "            h = h_minus\n",
    "\n",
    "        h = h.astype(int)    \n",
    "        zhat = np.matmul(x,theta_average)        \n",
    "        zhat_sum = np.sum(zhat)\n",
    "        z_sum = np.sum(z)\n",
    "        err_points = np.abs(h-y)\n",
    "\n",
    "        [[err_cost_z]] = np.matmul(z.T,err_points)\n",
    "        [[err_cost_zhat]] = np.matmul(zhat.T,err_points)\n",
    "        overall_diff = (zhat_sum/z_sum) - 1\n",
    "\n",
    "        discrepancy_total.append(overall_diff)\n",
    "        discrepancy_h.append(err_cost_zhat - err_cost_z)\n",
    "        discrepancy_proxy.append(err_cost_zhat/zhat_sum - err_cost_z/z_sum)\n",
    "        \n",
    "    return discrepancy_total, discrepancy_h, discrepancy_proxy, max_list"
   ]
  },
  {
   "cell_type": "code",
   "execution_count": 5,
   "metadata": {},
   "outputs": [
    {
     "name": "stdout",
     "output_type": "stream",
     "text": [
      "5.037473641195115\n",
      "9.405022472017553\n",
      "8.505707479945448\n",
      "19.582009892601132\n",
      "3.0664088754544485\n",
      "309.79596748501234\n",
      "4.821596300126286\n",
      "12.468837277757267\n",
      "7.5044030014805045\n",
      "71.73206127186508\n",
      "4.82238204423777\n",
      "7.453014710817421\n",
      "9.60231269309098\n",
      "12.568223471678813\n",
      "2.728070828995449\n",
      "5.627011631340947\n",
      "12.294136864440627\n",
      "41.764552761269655\n",
      "13.651105166445355\n",
      "5.543848737631327\n",
      "16.354796890658204\n",
      "21.744550057017356\n",
      "5.416362690621239\n",
      "18.910011193693684\n",
      "3.770406648409291\n",
      "48.39090550829992\n",
      "5.5504392321839635\n",
      "4.752549578109124\n",
      "4.98595411167514\n",
      "22.33826458973394\n"
     ]
    }
   ],
   "source": [
    "n = 10\n",
    "d = n + 1\n",
    "trials = 10\n",
    "\n",
    "max_array = []\n",
    "d_proxy = []\n",
    "d_total = []\n",
    "d_h = []\n",
    "etas = [0.01, 0.001, 0.0001]\n",
    "iterations = [10000]\n",
    "epsilon = 0.0001\n",
    "\n",
    "for iteration in iterations:\n",
    "    for eta in etas:\n",
    "        total, h, proxy, max_x = proxy_experiments(eta,iteration,trials,n,d,epsilon)\n",
    "        d_total.append(total)\n",
    "        d_proxy.append(proxy)\n",
    "        d_h.append(h)\n",
    "        max_array.append(max_x)"
   ]
  },
  {
   "cell_type": "code",
   "execution_count": 6,
   "metadata": {},
   "outputs": [
    {
     "data": {
      "text/plain": [
       "<matplotlib.legend.Legend at 0x7f0ec0581130>"
      ]
     },
     "execution_count": 6,
     "metadata": {},
     "output_type": "execute_result"
    },
    {
     "data": {
      "image/png": "[encoded data removed]",
      "text/plain": [
       "<Figure size 432x288 with 1 Axes>"
      ]
     },
     "metadata": {
      "needs_background": "light"
     },
     "output_type": "display_data"
    }
   ],
   "source": [
    "plt.hist(d_h)\n",
    "plt.ylabel(\"Count\")\n",
    "plt.title(\"Greatest Error Region\")\n",
    "plt.xlabel(\"Error\")\n",
    "plt.legend(etas)"
   ]
  },
  {
   "cell_type": "code",
   "execution_count": 7,
   "metadata": {
    "scrolled": true
   },
   "outputs": [
    {
     "data": {
      "text/plain": [
       "<matplotlib.legend.Legend at 0x7f0ec06d6940>"
      ]
     },
     "execution_count": 7,
     "metadata": {},
     "output_type": "execute_result"
    },
    {
     "data": {
      "image/png": "[encoded data removed]",
      "text/plain": [
       "<Figure size 432x288 with 1 Axes>"
      ]
     },
     "metadata": {
      "needs_background": "light"
     },
     "output_type": "display_data"
    }
   ],
   "source": [
    "plt.hist(d_total)\n",
    "plt.ylabel(\"Count\")\n",
    "plt.title(\"Deviation of Average Values\")\n",
    "plt.xlabel(\"Error\")\n",
    "plt.legend(etas)"
   ]
  },
  {
   "cell_type": "code",
   "execution_count": 8,
   "metadata": {},
   "outputs": [
    {
     "data": {
      "text/plain": [
       "<matplotlib.legend.Legend at 0x7f0ec0689ac0>"
      ]
     },
     "execution_count": 8,
     "metadata": {},
     "output_type": "execute_result"
    },
    {
     "data": {
      "image/png": "[encoded data removed]",
      "text/plain": [
       "<Figure size 432x288 with 1 Axes>"
      ]
     },
     "metadata": {
      "needs_background": "light"
     },
     "output_type": "display_data"
    }
   ],
   "source": [
    "plt.hist(d_proxy)\n",
    "plt.ylabel(\"Count\")\n",
    "plt.title(\"Proxy Error\")\n",
    "plt.xlabel(\"Error\")\n",
    "plt.legend(etas)"
   ]
  },
  {
   "cell_type": "code",
   "execution_count": 9,
   "metadata": {},
   "outputs": [
    {
     "data": {
      "text/plain": [
       "<matplotlib.legend.Legend at 0x7f0ec04eb790>"
      ]
     },
     "execution_count": 9,
     "metadata": {},
     "output_type": "execute_result"
    },
    {
     "data": {
      "image/png": "[encoded data removed]",
      "text/plain": [
       "<Figure size 432x288 with 1 Axes>"
      ]
     },
     "metadata": {
      "needs_background": "light"
     },
     "output_type": "display_data"
    }
   ],
   "source": [
    "plt.hist(np.subtract(d_total,d_h))\n",
    "plt.ylabel(\"Count\")\n",
    "plt.title(\"Error Region - Deviation of Average Values\")\n",
    "plt.xlabel(\"Error\")\n",
    "plt.legend(etas)"
   ]
  },
  {
   "cell_type": "code",
   "execution_count": 11,
   "metadata": {},
   "outputs": [
    {
     "data": {
      "text/plain": [
       "<matplotlib.legend.Legend at 0x7f0ec0358850>"
      ]
     },
     "execution_count": 11,
     "metadata": {},
     "output_type": "execute_result"
    },
    {
     "data": {
      "image/png": "[encoded data removed]",
      "text/plain": [
       "<Figure size 432x288 with 1 Axes>"
      ]
     },
     "metadata": {
      "needs_background": "light"
     },
     "output_type": "display_data"
    }
   ],
   "source": [
    "plt.hist(max_array)\n",
    "plt.ylabel(\"Count\")\n",
    "plt.title(\"Maximum X Values\")\n",
    "plt.xlabel(\"X Values\")\n",
    "plt.legend(etas)"
   ]
  },
  {
   "cell_type": "code",
   "execution_count": 13,
   "metadata": {},
   "outputs": [
    {
     "data": {
      "text/plain": [
       "<matplotlib.legend.Legend at 0x7f0ebfe83280>"
      ]
     },
     "execution_count": 13,
     "metadata": {},
     "output_type": "execute_result"
    },
    {
     "data": {
      "image/png": "[encoded data removed]",
      "text/plain": [
       "<Figure size 1152x864 with 4 Axes>"
      ]
     },
     "metadata": {
      "needs_background": "light"
     },
     "output_type": "display_data"
    }
   ],
   "source": [
    "plt.figure(figsize=(16,12))\n",
    "plt.subplot(2,2,1)\n",
    "plt.hist(d_h)\n",
    "plt.ylabel(\"Count\")\n",
    "plt.title(\"Greatest Error Region\")\n",
    "plt.xlabel(\"Error\")\n",
    "plt.legend(etas)\n",
    "\n",
    "plt.subplot(2,2,2)\n",
    "plt.hist(d_total)\n",
    "plt.ylabel(\"Count\")\n",
    "plt.title(\"Deviation of Average Values\")\n",
    "plt.xlabel(\"Error\")\n",
    "plt.legend(etas)\n",
    "\n",
    "plt.subplot(2,2,3)\n",
    "plt.hist(d_proxy)\n",
    "plt.ylabel(\"Count\")\n",
    "plt.title(\"Proxy Error\")\n",
    "plt.xlabel(\"Error\")\n",
    "plt.legend(etas)\n",
    "\n",
    "plt.subplot(2,2,4)\n",
    "plt.hist(max_array)\n",
    "plt.ylabel(\"Count\")\n",
    "plt.title(\"Maximum X Values\")\n",
    "plt.xlabel(\"X Values\")\n",
    "plt.legend(etas)"
   ]
  }
 ],
 "metadata": {
  "kernelspec": {
   "display_name": "Python 3",
   "language": "python",
   "name": "python3"
  },
  "language_info": {
   "codemirror_mode": {
    "name": "ipython",
    "version": 3
   },
   "file_extension": ".py",
   "mimetype": "text/x-python",
   "name": "python",
   "nbconvert_exporter": "python",
   "pygments_lexer": "ipython3",
   "version": "3.8.10"
  }
 },
 "nbformat": 4,
 "nbformat_minor": 5
}
