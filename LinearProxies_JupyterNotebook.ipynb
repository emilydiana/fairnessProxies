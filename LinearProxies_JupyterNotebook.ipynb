{
 "cells": [
  {
   "cell_type": "code",
   "execution_count": 34,
   "id": "eca091f7",
   "metadata": {},
   "outputs": [],
   "source": [
    "import numpy as np\n",
    "from sklearn.linear_model import LinearRegression\n",
    "from matplotlib import pyplot as plt"
   ]
  },
  {
   "cell_type": "code",
   "execution_count": 104,
   "id": "fd393499",
   "metadata": {},
   "outputs": [],
   "source": [
    "def linear_costs(x, y, z, theta):\n",
    "    costs = (np.matmul(x,theta)-z)*(1-2*y)\n",
    "    return costs"
   ]
  },
  {
   "cell_type": "code",
   "execution_count": 83,
   "id": "d107715a",
   "metadata": {},
   "outputs": [],
   "source": [
    "def paired_classifier(x, costs):\n",
    "    f = []\n",
    "    for cost in costs.T:\n",
    "        f.append(LinearRegression(fit_intercept=False).fit(x, cost))\n",
    "    return f"
   ]
  },
  {
   "cell_type": "code",
   "execution_count": 37,
   "id": "40301442",
   "metadata": {},
   "outputs": [],
   "source": [
    "def obj_grad(objective, x, z, theta, n):\n",
    "    \n",
    "    if objective=='MSE':\n",
    "        grad = 2*np.matmul(x.T,np.matmul(x,theta)-z)/n\n",
    "        return grad.flatten()\n",
    "    \n",
    "    elif objective=='dot_product':\n",
    "        grad = np.matmul(x.T,z)/n\n",
    "        return grad.flatten()\n",
    "    \n",
    "    else:\n",
    "        return 0"
   ]
  },
  {
   "cell_type": "code",
   "execution_count": 156,
   "id": "08197791",
   "metadata": {},
   "outputs": [],
   "source": [
    "def linear_proxies(x, y, z_all, C, iters, n, K, d, objective=None):\n",
    "    theta_list = []\n",
    "    grad_list = []\n",
    "    for k in range(0,K):\n",
    "        z = z_all[:,k].reshape(-1,1)\n",
    "        theta = [np.random.rand(d,1)]\n",
    "        grad_l = [0]\n",
    "        \n",
    "        for t in range(1, iters):\n",
    "            costs = linear_costs(x, y, z, theta[t-1])\n",
    "            f_s = paired_classifier(x, costs)\n",
    "            val = []\n",
    "            h = [0]*n\n",
    "            \n",
    "            for i, f in enumerate(f_s):\n",
    "                h_s = f.predict(x)\n",
    "                h[i] = h_s < 0\n",
    "                val.append(np.sum(h_s[h[i]]))\n",
    "                \n",
    "            y_index = np.argmin(val)\n",
    "            y_temp = y[:,y_index]\n",
    "            h = h[y_index].astype(int)\n",
    "            \n",
    "            zhat = np.matmul(x,theta[t-1])\n",
    "            zhat_sum = np.sum(zhat)\n",
    "            z_sum = np.sum(z)\n",
    "            err_points = np.abs(h-y_temp)\n",
    "            err_cost = np.matmul((zhat-z).T,err_points)\n",
    "            overall_diff = (zhat_sum/z_sum) - 1\n",
    "            \n",
    "            if np.abs(overall_diff) >= np.abs(err_cost):\n",
    "                penalty = np.sign(overall_diff) * np.sum(x, axis=0)/z_sum\n",
    "            else:\n",
    "                penalty = np.sign(err_cost) * np.matmul(np.transpose(x),err_points)  \n",
    "                penalty = penalty.flatten()\n",
    "                \n",
    "            grad_l.append(obj_grad(objective,x,z,theta[t-1],n) + C * penalty) \n",
    "            theta.append(theta[t-1] - (np.power(t, -1/2) * grad_l[t]).reshape(-1,1))\n",
    "            \n",
    "        theta_list.append(theta)\n",
    "        grad_list.append(grad_l)\n",
    "        \n",
    "    return theta_list, grad_list"
   ]
  },
  {
   "cell_type": "code",
   "execution_count": 157,
   "id": "e58dd1a7",
   "metadata": {},
   "outputs": [],
   "source": [
    "def calculate_hyperparameters(d, B, z, n, M, alpha):\n",
    "    z_sum = np.sum(z)\n",
    "    alpha_exp = alpha*z_sum/(1+n*M)\n",
    "    \n",
    "    C = (M**2+2*alpha_exp)/alpha_exp\n",
    "    T = d**4*np.square(2*M*B+n*C*B/z_sum)/np.square(alpha_exp)\n",
    "    return C, int(T)\n"
   ]
  },
  {
   "cell_type": "code",
   "execution_count": null,
   "id": "7ed3c9e2",
   "metadata": {
    "scrolled": true
   },
   "outputs": [],
   "source": [
    "# np.random.seed(1) #Good\n",
    "np.random.seed(4) #Bad\n",
    "\n",
    "#n = 3\n",
    "#m = 1\n",
    "#K = n\n",
    "#d = n\n",
    "\n",
    "#M = 1.2\n",
    "#B = 1\n",
    "#alpha = 0.1\n",
    "\n",
    "#trials = 1\n",
    "\n",
    "n = 4\n",
    "m = 1\n",
    "K = n\n",
    "d = n\n",
    "\n",
    "M = 1\n",
    "B = 1\n",
    "alpha=0.1\n",
    "trials=1\n",
    "\n",
    "intercept = np.ones(n).reshape(-1,1)\n",
    "discrepancy = []\n",
    "\n",
    "for i in range(0,trials):\n",
    "    a = np.random.rand(1)\n",
    "    b = np.random.rand(1)\n",
    "   \n",
    "    z_train = np.round(np.random.rand(n,K))\n",
    "    theta = np.random.rand(n,n)\n",
    "    \n",
    "    x_train = np.matmul(z_train, np.linalg.inv(theta))\n",
    "    x_train = np.hstack((intercept, x_train))\n",
    "    y_train = np.round(np.random.rand(n,m))\n",
    "\n",
    "    C, T = calculate_hyperparameters(d+1, B, z_train, n, M, alpha)\n",
    "    coefficients, gradients = linear_proxies(x_train, y_train, z_train, C, (T/10000), n, K, d+1)\n",
    "\n",
    "    final_model = np.mean(coefficients, axis=1)\n",
    "   \n",
    "    final_costs = linear_costs(x_train, y_train, z_train, final_model)\n",
    "    prc = paired_classifier(x_train, final_costs)\n",
    "\n",
    "    h_s = prc[0].predict(x_train)\n",
    "    \n",
    "    h = h_s < 0\n",
    "    h_int = h.astype(int)\n",
    "    h_err = h_int != y_train\n",
    "    z_hat = np.matmul(x_train, final_model)\n",
    "   \n",
    "    for i in range(0,n):\n",
    "        if sum(h_err[i])==0:\n",
    "            discrepancy.append(0)\n",
    "        else:\n",
    "            discrepancy.append(np.mean(z_train[h_err[i]])/(np.mean(z_train)) - np.mean(z_hat[h_err[i]])/(np.mean(z_hat)))\n",
    "    \n",
    "print(discrepancy)\n",
    "print(np.mean(discrepancy))"
   ]
  },
  {
   "cell_type": "code",
   "execution_count": null,
   "id": "d0b50c1c",
   "metadata": {},
   "outputs": [],
   "source": [
    "plt.hist(discrepancy)\n",
    "\n",
    "#Portion of discrepancies that fall in good range"
   ]
  },
  {
   "cell_type": "code",
   "execution_count": 9,
   "id": "f2c85b2f",
   "metadata": {},
   "outputs": [
    {
     "data": {
      "text/plain": [
       "[<matplotlib.lines.Line2D at 0x7fc0e00b8610>]"
      ]
     },
     "execution_count": 9,
     "metadata": {},
     "output_type": "execute_result"
    },
    {
     "data": {
      "image/png": "[encoded data removed]",
      "text/plain": [
       "<Figure size 432x288 with 1 Axes>"
      ]
     },
     "metadata": {
      "needs_background": "light"
     },
     "output_type": "display_data"
    }
   ],
   "source": [
    "coefficients_0 = [row[0] for row in coefficients[0]]\n",
    "plt.plot(coefficients_0)"
   ]
  },
  {
   "cell_type": "code",
   "execution_count": 10,
   "id": "4aae55c5",
   "metadata": {},
   "outputs": [
    {
     "ename": "IndexError",
     "evalue": "list index out of range",
     "output_type": "error",
     "traceback": [
      "\u001b[0;31m---------------------------------------------------------------------------\u001b[0m",
      "\u001b[0;31mIndexError\u001b[0m                                Traceback (most recent call last)",
      "\u001b[0;32m<ipython-input-10-6bccac966515>\u001b[0m in \u001b[0;36m<module>\u001b[0;34m\u001b[0m\n\u001b[0;32m----> 1\u001b[0;31m \u001b[0mcoefficients_1\u001b[0m \u001b[0;34m=\u001b[0m \u001b[0;34m[\u001b[0m\u001b[0mrow\u001b[0m\u001b[0;34m[\u001b[0m\u001b[0;36m2\u001b[0m\u001b[0;34m]\u001b[0m \u001b[0;32mfor\u001b[0m \u001b[0mrow\u001b[0m \u001b[0;32min\u001b[0m \u001b[0mcoefficients\u001b[0m\u001b[0;34m[\u001b[0m\u001b[0;36m1\u001b[0m\u001b[0;34m]\u001b[0m\u001b[0;34m]\u001b[0m\u001b[0;34m\u001b[0m\u001b[0;34m\u001b[0m\u001b[0m\n\u001b[0m\u001b[1;32m      2\u001b[0m \u001b[0mplt\u001b[0m\u001b[0;34m.\u001b[0m\u001b[0mplot\u001b[0m\u001b[0;34m(\u001b[0m\u001b[0mcoefficients_1\u001b[0m\u001b[0;34m)\u001b[0m\u001b[0;34m\u001b[0m\u001b[0;34m\u001b[0m\u001b[0m\n",
      "\u001b[0;31mIndexError\u001b[0m: list index out of range"
     ]
    }
   ],
   "source": [
    "coefficients_1 = [row[2] for row in coefficients[1]]\n",
    "plt.plot(coefficients_1)"
   ]
  },
  {
   "cell_type": "code",
   "execution_count": null,
   "id": "6d981757",
   "metadata": {},
   "outputs": [],
   "source": [
    "gradients_0 = [row[0] for row in gradients[0]]\n",
    "plt.plot(gradients_0)"
   ]
  },
  {
   "cell_type": "code",
   "execution_count": null,
   "id": "7ec42eda",
   "metadata": {},
   "outputs": [],
   "source": [
    "gradients_1 = [row[1] for row in gradients[1]]\n",
    "plt.plot(gradients_1)"
   ]
  },
  {
   "cell_type": "code",
   "execution_count": null,
   "id": "056320e3",
   "metadata": {},
   "outputs": [],
   "source": [
    "#np.random.seed(1)\n",
    "n = 100\n",
    "m = 1\n",
    "K = 3\n",
    "d = 2\n",
    "intercept = np.ones(n).reshape(-1,1)\n",
    "x_train = np.random.rand(n,d)\n",
    "x_train = np.hstack((intercept, x_train))\n",
    "y_train = np.round(np.random.rand(n,m))\n",
    "z_train = np.round(np.random.rand(n,K))\n",
    "\n",
    "\n",
    "nonlinear_proxies(x_train, y_train, z_train, 1, 100000, 10, 100, 4)"
   ]
  },
  {
   "cell_type": "markdown",
   "id": "0cf83923",
   "metadata": {},
   "source": [
    "def nonlinear_proxies(x, y, z_all, C, T, W, n, K, objective=None):\n",
    "    zhat_list = []\n",
    "    for t in range(0,T):\n",
    "        noise = np.random.rand(n,W)\n",
    "        for w in range(0,W):\n",
    "            noise_w = noise[:,w]\n",
    "            Basically find lambda the same way"
   ]
  }
 ],
 "metadata": {
  "kernelspec": {
   "display_name": "Python 3",
   "language": "python",
   "name": "python3"
  },
  "language_info": {
   "codemirror_mode": {
    "name": "ipython",
    "version": 3
   },
   "file_extension": ".py",
   "mimetype": "text/x-python",
   "name": "python",
   "nbconvert_exporter": "python",
   "pygments_lexer": "ipython3",
   "version": "3.8.8"
  }
 },
 "nbformat": 4,
 "nbformat_minor": 5
}
