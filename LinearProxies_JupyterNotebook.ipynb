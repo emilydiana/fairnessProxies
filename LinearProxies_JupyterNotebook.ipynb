{
 "cells": [
  {
   "cell_type": "code",
   "execution_count": 1,
   "metadata": {},
   "outputs": [],
   "source": [
    "import numpy as np\n",
    "from sklearn.linear_model import LinearRegression\n",
    "from matplotlib import pyplot as plt"
   ]
  },
  {
   "cell_type": "code",
   "execution_count": 2,
   "metadata": {},
   "outputs": [],
   "source": [
    "def linear_costs(x, y, z, theta):\n",
    "    costs = (np.matmul(x,theta)-z)*(1-2*y)\n",
    "    return costs"
   ]
  },
  {
   "cell_type": "code",
   "execution_count": 3,
   "metadata": {},
   "outputs": [],
   "source": [
    "def paired_classifier(x, costs):\n",
    "    f = []\n",
    "    for cost in costs.T:\n",
    "        f.append(LinearRegression().fit(x, cost))\n",
    "    return f"
   ]
  },
  {
   "cell_type": "code",
   "execution_count": 22,
   "metadata": {},
   "outputs": [],
   "source": [
    "def obj_grad(objective, x, z, theta, n):\n",
    "    if objective=='MSE':\n",
    "        grad = 2*np.matmul(x.T,np.matmul(x,theta)-z)/n\n",
    "        return grad.flatten()\n",
    "    elif objective=='dot_product':\n",
    "        grad = np.matmul(x.T,z)/n\n",
    "        return grad.flatten()\n",
    "    else:\n",
    "        return 0"
   ]
  },
  {
   "cell_type": "code",
   "execution_count": 23,
   "metadata": {},
   "outputs": [],
   "source": [
    "def linear_proxies(x, y, z_all, C, iters, n, K, objective=None):\n",
    "    theta_list = []\n",
    "    grad_list = []\n",
    "    for k in range(0,K):\n",
    "        z = z_all[:,k].reshape(-1,1)\n",
    "        zhat = LinearRegression().fit(x, z)\n",
    "        theta = [np.transpose(zhat.coef_)]\n",
    "        grad_l = []\n",
    "        for t in range(1, iters):\n",
    "            costs = linear_costs(x, y, z, theta[t-1])\n",
    "            f_s = paired_classifier(x, costs)\n",
    "            val = []\n",
    "            h= [0]*n\n",
    "            for i, f in enumerate(f_s):\n",
    "                h_s = f.predict(x)\n",
    "                h[i] = h_s < 0\n",
    "                val.append(np.sum(h_s[h[i]]))\n",
    "            y_index = np.argmin(val)\n",
    "            y_temp = y[:,y_index]\n",
    "            h = h[y_index].astype(int)\n",
    "            if np.abs(np.sum(np.matmul(x,theta[t-1]))/np.sum(z) - 1) >= np.abs(np.matmul((np.matmul(x,theta[t-1])-z).T,np.abs(h-y_temp))):\n",
    "                penalty = np.sign(np.sum(np.matmul(x,theta[t-1]))/np.sum(z) - 1) * np.sum(x, axis=0)/np.sum(z)\n",
    "            else:\n",
    "                penalty = -np.sign(np.matmul(np.transpose(np.matmul(x,theta[t-1])-z),np.abs(h-y_temp))) * np.matmul(np.transpose(x),np.abs(h-y_temp))  \n",
    "                penalty = penalty.flatten()\n",
    "            grad_l.append(obj_grad(objective,x,z,theta[t-1],n) - C * penalty) \n",
    "            theta.append(theta[t-1] - (np.power(t, -1/2) * grad_l[t-1]).reshape(-1,1))\n",
    "        theta_list.append(theta)\n",
    "        grad_list.append(grad_l)\n",
    "    return theta_list, grad_list"
   ]
  },
  {
   "cell_type": "code",
   "execution_count": null,
   "metadata": {},
   "outputs": [],
   "source": [
    "#np.random.seed(1)\n",
    "n = 100\n",
    "m = 3\n",
    "K = 3\n",
    "d = 2\n",
    "intercept = np.ones(n).reshape(-1,1)\n",
    "x_train = np.random.rand(n,d)\n",
    "x_train = np.hstack((intercept, x_train))\n",
    "y_train = np.round(np.random.rand(n,m))\n",
    "z_train = np.round(np.random.rand(n,K))\n",
    "\n",
    "coefficients, gradients = linear_proxies(x_train, y_train, z_train, 1, 10000, n, K, objective='dot_product')"
   ]
  },
  {
   "cell_type": "code",
   "execution_count": 25,
   "metadata": {},
   "outputs": [
    {
     "data": {
      "text/plain": [
       "[<matplotlib.lines.Line2D at 0x7fda5c2fc550>]"
      ]
     },
     "execution_count": 25,
     "metadata": {},
     "output_type": "execute_result"
    },
    {
     "data": {
      "image/png": "[encoded data removed]",
      "text/plain": [
       "<Figure size 432x288 with 1 Axes>"
      ]
     },
     "metadata": {
      "needs_background": "light"
     },
     "output_type": "display_data"
    }
   ],
   "source": [
    "coefficients_0 = [row[0] for row in coefficients[0]]\n",
    "plt.plot(coefficients_0)"
   ]
  },
  {
   "cell_type": "code",
   "execution_count": 27,
   "metadata": {},
   "outputs": [
    {
     "data": {
      "text/plain": [
       "[<matplotlib.lines.Line2D at 0x7fda5c848b20>]"
      ]
     },
     "execution_count": 27,
     "metadata": {},
     "output_type": "execute_result"
    },
    {
     "data": {
      "image/png": "[encoded data removed]",
      "text/plain": [
       "<Figure size 432x288 with 1 Axes>"
      ]
     },
     "metadata": {
      "needs_background": "light"
     },
     "output_type": "display_data"
    }
   ],
   "source": [
    "coefficients_1 = [row[2] for row in coefficients[1]]\n",
    "plt.plot(coefficients_1)"
   ]
  },
  {
   "cell_type": "code",
   "execution_count": 28,
   "metadata": {},
   "outputs": [
    {
     "data": {
      "text/plain": [
       "[<matplotlib.lines.Line2D at 0x7fda576a40d0>]"
      ]
     },
     "execution_count": 28,
     "metadata": {},
     "output_type": "execute_result"
    },
    {
     "data": {
      "image/png": "[encoded data removed]",
      "text/plain": [
       "<Figure size 432x288 with 1 Axes>"
      ]
     },
     "metadata": {
      "needs_background": "light"
     },
     "output_type": "display_data"
    }
   ],
   "source": [
    "gradients_0 = [row[0] for row in gradients[0]]\n",
    "plt.plot(gradients_0)"
   ]
  },
  {
   "cell_type": "code",
   "execution_count": 29,
   "metadata": {},
   "outputs": [
    {
     "data": {
      "text/plain": [
       "[<matplotlib.lines.Line2D at 0x7fda5c341d30>]"
      ]
     },
     "execution_count": 29,
     "metadata": {},
     "output_type": "execute_result"
    },
    {
     "data": {
      "image/png": "[encoded data removed]",
      "text/plain": [
       "<Figure size 432x288 with 1 Axes>"
      ]
     },
     "metadata": {
      "needs_background": "light"
     },
     "output_type": "display_data"
    }
   ],
   "source": [
    "gradients_1 = [row[1] for row in gradients[1]]\n",
    "plt.plot(gradients_1)"
   ]
  }
 ],
 "metadata": {
  "kernelspec": {
   "display_name": "Python 3",
   "language": "python",
   "name": "python3"
  },
  "language_info": {
   "codemirror_mode": {
    "name": "ipython",
    "version": 3
   },
   "file_extension": ".py",
   "mimetype": "text/x-python",
   "name": "python",
   "nbconvert_exporter": "python",
   "pygments_lexer": "ipython3",
   "version": "3.8.10"
  }
 },
 "nbformat": 4,
 "nbformat_minor": 5
}
