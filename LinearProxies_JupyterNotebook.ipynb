{
 "cells": [
  {
   "cell_type": "code",
   "execution_count": 1,
   "metadata": {},
   "outputs": [],
   "source": [
    "import numpy as np\n",
    "from sklearn.linear_model import LinearRegression\n",
    "from sklearn.model_selection import train_test_split\n",
    "\n",
    "from matplotlib import pyplot as plt\n",
    "import folktables\n",
    "from folktables import ACSDataSource, ACSEmployment\n",
    "\n",
    "from sklearn.preprocessing import PolynomialFeatures"
   ]
  },
  {
   "cell_type": "code",
   "execution_count": 2,
   "metadata": {},
   "outputs": [],
   "source": [
    "def has_converged(x, size, epsilon):\n",
    "    for i in range(0,size):\n",
    "            if np.linalg.norm(x[-1:][0] - x[-(2+i):][0], np.inf) > epsilon:\n",
    "                return False\n",
    "    return True"
   ]
  },
  {
   "cell_type": "code",
   "execution_count": 3,
   "metadata": {},
   "outputs": [],
   "source": [
    "def linear_proxies(x, y, z, iters, epsilon, eta_val = None):\n",
    "    n = x.shape[0]\n",
    "    theta = [LinearRegression(fit_intercept=False).fit(x,z).coef_.reshape(-1,1)]\n",
    "    theta_average = [LinearRegression(fit_intercept=False).fit(x,z).coef_.reshape(-1,1)]\n",
    "    z_sum = np.sum(z)\n",
    "    grad_term_overall = np.sum(x, axis=0)/z_sum\n",
    "    converged = False\n",
    "    \n",
    "    if eta_val:\n",
    "        eta = eta_val\n",
    "        \n",
    "    print(\"Iterations:\")    \n",
    "    for t in range(1, iters):\n",
    "        if eta_val is None:\n",
    "            eta = 1/(np.sqrt(n*t))\n",
    "            \n",
    "        if t%200 == 0:\n",
    "            print(t)\n",
    "        \n",
    "        zhat = np.matmul(x,theta[t-1])\n",
    "        costs = (zhat-z)*(1-2*y)\n",
    "        \n",
    "        prc = LinearRegression(fit_intercept=False).fit(x,costs)\n",
    "        h_real = prc.predict(x)\n",
    "        h_plus = h_real > 0\n",
    "        h_minus = h_real < 0\n",
    "    \n",
    "        if np.sum(h_real[h_plus]) > -np.sum(h_real[h_minus]):\n",
    "            h = h_plus\n",
    "        else:\n",
    "            h = h_minus\n",
    "            \n",
    "        h = h.astype(int)\n",
    "        zhat_sum = np.sum(zhat)\n",
    "        err_points = np.abs(h-y)\n",
    "        \n",
    "        err_cost = np.squeeze(np.matmul((zhat-z).T,err_points))/n\n",
    "        overall_diff = zhat_sum/z_sum - 1\n",
    "\n",
    "        if np.abs(overall_diff) >= np.abs(err_cost):           \n",
    "            penalty = np.sign(overall_diff) * grad_term_overall\n",
    "        else:\n",
    "            penalty = np.sign(err_cost) * np.matmul(np.transpose(x),err_points)/n\n",
    "            \n",
    "        new_theta = theta[t-1] - eta*penalty.reshape(-1,1)\n",
    "        theta.append(new_theta)\n",
    "        theta_average.append((t*theta_average[t-1]+new_theta)/(t+1))\n",
    "        \n",
    "        if t%100 == 0 :\n",
    "            if has_converged(theta_average, 10, epsilon):\n",
    "                converged = True\n",
    "                break\n",
    "                    \n",
    "    return theta, theta_average[-1]   "
   ]
  },
  {
   "cell_type": "code",
   "execution_count": 4,
   "metadata": {},
   "outputs": [],
   "source": [
    "def evaluate_proxy(x, y, z, theta_average):\n",
    "    n = x.shape[0]\n",
    "    zhat = np.matmul(x, theta_average) \n",
    "    final_costs = (zhat-z)*(1-2*y)\n",
    "    prc = LinearRegression(fit_intercept=False).fit(x, final_costs)  \n",
    "    h_real = prc.predict(x)\n",
    "    h_plus = h_real > 0\n",
    "    h_minus = h_real < 0\n",
    "    \n",
    "    if np.sum(h_real[h_plus]) > -np.sum(h_real[h_minus]):\n",
    "        h = h_plus\n",
    "    else:\n",
    "        h = h_minus\n",
    "    \n",
    "    h = h.astype(int)    \n",
    "       \n",
    "    zhat_sum = np.sum(zhat)\n",
    "    z_sum = np.sum(z)\n",
    "    err_points = np.abs(h-y)\n",
    "\n",
    "    err_cost_z = np.squeeze(np.matmul(z.T, err_points))\n",
    "    err_cost_zhat = np.squeeze(np.matmul(zhat.T, err_points))\n",
    "    overall_diff = zhat_sum/z_sum - 1\n",
    "    model_diff = (err_cost_zhat - err_cost_z)/n\n",
    "    proxy_error = err_cost_zhat/zhat_sum - err_cost_z/z_sum\n",
    "    \n",
    "    return overall_diff, model_diff, proxy_error"
   ]
  },
  {
   "cell_type": "markdown",
   "metadata": {},
   "source": [
    "I. Census Data Experiments"
   ]
  },
  {
   "cell_type": "code",
   "execution_count": 5,
   "metadata": {},
   "outputs": [
    {
     "name": "stdout",
     "output_type": "stream",
     "text": [
      "[[30. 14.  1. ...  2.  1.  8.]\n",
      " [18. 14.  5. ...  2.  2.  1.]\n",
      " [69. 17.  1. ...  2.  1.  9.]\n",
      " ...\n",
      " [43. 16.  1. ...  2.  2.  8.]\n",
      " [23. 16.  5. ...  2.  1.  8.]\n",
      " [18. 14.  5. ...  2.  1.  8.]]\n",
      "[8 1 9 ... 8 8 8]\n",
      "[False False False ... False False False]\n"
     ]
    }
   ],
   "source": [
    "data_source = ACSDataSource(survey_year='2018', horizon='1-Year', survey='person')\n",
    "acs_data = data_source.get_data(states=[\"CA\"], download=False)\n",
    "features, label, group = ACSEmployment.df_to_numpy(acs_data)\n",
    "\n",
    "print(features)\n",
    "print(group)\n",
    "print(label)"
   ]
  },
  {
   "cell_type": "code",
   "execution_count": null,
   "metadata": {},
   "outputs": [
    {
     "name": "stdout",
     "output_type": "stream",
     "text": [
      "1\n",
      "[[ 1.  8.  6. ...  2.  2.  2.]\n",
      " [ 1. 48. 17. ...  2.  2.  1.]\n",
      " [ 1.  3.  1. ...  2.  0.  2.]\n",
      " ...\n",
      " [ 1. 59. 18. ...  2.  2.  2.]\n",
      " [ 1. 43. 20. ...  2.  2.  1.]\n",
      " [ 1. 62. 22. ...  2.  2.  1.]]\n",
      "(175592, 16)\n",
      "Iterations:\n",
      "200\n"
     ]
    }
   ],
   "source": [
    "bw_indices = (group<3)\n",
    "\n",
    "X_train, X_test, y_train, y_test, group_train, group_test = train_test_split(\n",
    "    features[bw_indices,:], label[bw_indices], group[bw_indices]-1, test_size=0.30, random_state=0)\n",
    "\n",
    "#Normalize feature matrix\n",
    "#intercept = np.ones(X_train.shape[0]).reshape(-1,1)\n",
    "y = y_train.astype(int).reshape(-1,1)\n",
    "z = group_train.reshape(-1,1)\n",
    "#x = X_train[:,:-1]/(np.linalg.norm(X_train[:,:-1], axis=1).max())\n",
    "x = X_train[:,:-1]\n",
    "\n",
    "for deg in range(1,10):\n",
    "    print(deg)\n",
    "    poly_reg=PolynomialFeatures(degree=deg)\n",
    "    x_poly = poly_reg.fit_transform(x)\n",
    "    print(x_poly)\n",
    "    print(x_poly.shape)\n",
    "    coefficients, theta_average = linear_proxies(x_poly, y, z, 1000, 0.0001)\n",
    "    overall_diff, model_diff, proxy_error = evaluate_proxy(x_poly, y, z, theta_average)\n",
    "    \n",
    "    print(\"Polynomial Degree: \" + str(deg))\n",
    "    print(\"Overall diff: \" + str(overall_diff))\n",
    "    print(\"Model diff: \" + str(model_diff))\n",
    "    print(\"Proxy error: \" + str(proxy_error))"
   ]
  },
  {
   "cell_type": "code",
   "execution_count": null,
   "metadata": {},
   "outputs": [],
   "source": [
    "filename = \"ACS.npz\"\n",
    "np.savez(filename, X = x, Y = y.flatten(), grouplabels = z.T, group_sets = [\"White\", \"Black\"], group_types = \"Race\", is_binary = True, proxy = np.matmul(x, theta_average))"
   ]
  },
  {
   "cell_type": "markdown",
   "metadata": {},
   "source": [
    "II. Synthetic Data Experimental Framework"
   ]
  },
  {
   "cell_type": "code",
   "execution_count": null,
   "metadata": {},
   "outputs": [],
   "source": [
    "def synthetic_proxy_experiments(T, trials, n, d, epsilon, eta, unit=False):\n",
    "    discrepancy_proxy = []\n",
    "    discrepancy_total = []\n",
    "    discrepancy_h = []\n",
    "    intercept = np.ones(n).reshape(-1,1)\n",
    "    \n",
    "    for i in range(0,trials):\n",
    "        np.random.seed(i)\n",
    "        y = np.round(np.random.rand(n,1))\n",
    "        \n",
    "        if unit:\n",
    "            theta = np.random.rand(d,1)\n",
    "            theta = theta/np.linalg.norm(theta)\n",
    "            x = np.random.rand(n,d)\n",
    "            \n",
    "            for j in range(0,n):\n",
    "                x[j,:] = x[j,:]/np.linalg.norm(x[j,:])\n",
    "                \n",
    "            zhat = np.matmul(x,theta)\n",
    "            z = np.random.binomial(n=n,p=zhat)   \n",
    "            \n",
    "        else:\n",
    "            z = np.round(np.random.rand(n,n))\n",
    "            theta = np.random.rand(n,n)\n",
    "            x = np.matmul(z, np.linalg.inv(theta))\n",
    "            x = np.hstack((intercept, x))\n",
    "            z = z[:,0].reshape(-1,1)\n",
    "\n",
    "        coefficients, theta_average = linear_proxies(x, y, z, T, epsilon, eta)\n",
    "        overall_diff, model_diff, proxy_error = evaluate_proxy(x,y,z,theta_average)\n",
    "       \n",
    "        discrepancy_total.append(overall_diff)\n",
    "        discrepancy_h.append(model_diff)\n",
    "        discrepancy_proxy.append(proxy_error)\n",
    "        \n",
    "    return discrepancy_total, discrepancy_h, discrepancy_proxy"
   ]
  },
  {
   "cell_type": "markdown",
   "metadata": {},
   "source": [
    "III. FTPL Algo (Non-Linear Proxies)"
   ]
  }
 ],
 "metadata": {
  "kernelspec": {
   "display_name": "Python 3",
   "language": "python",
   "name": "python3"
  },
  "language_info": {
   "codemirror_mode": {
    "name": "ipython",
    "version": 3
   },
   "file_extension": ".py",
   "mimetype": "text/x-python",
   "name": "python",
   "nbconvert_exporter": "python",
   "pygments_lexer": "ipython3",
   "version": "3.8.10"
  }
 },
 "nbformat": 4,
 "nbformat_minor": 5
}
