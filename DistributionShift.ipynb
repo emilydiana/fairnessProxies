{
 "cells": [
  {
   "cell_type": "code",
   "execution_count": 1,
   "id": "37375261",
   "metadata": {},
   "outputs": [],
   "source": [
    "import numpy as np\n",
    "from sklearn.linear_model import LinearRegression\n",
    "\n",
    "from matplotlib import pyplot as plt"
   ]
  },
  {
   "cell_type": "code",
   "execution_count": 2,
   "id": "51363b9d",
   "metadata": {},
   "outputs": [],
   "source": [
    "def evaluate_proxy_distribution_shift(x, y, theta_1, theta_2):\n",
    "    n = x.shape[0]\n",
    "    z_1 = np.matmul(x, theta_1) \n",
    "    z_2 = np.matmul(x, theta_2) \n",
    "    costs = (z_1-z_2)*(1-2*y)\n",
    "\n",
    "    prc = LinearRegression(fit_intercept=False).fit(x, costs)  \n",
    "    h_real = prc.predict(x)\n",
    "    h_plus = h_real > 0\n",
    "    h_minus = h_real < 0\n",
    "    \n",
    "    if np.abs(np.sum(costs[h_plus])) > np.abs(np.sum(costs[h_minus])):\n",
    "        h = h_plus\n",
    "    else:\n",
    "        h = h_minus\n",
    "    \n",
    "    h = h.astype(int)    \n",
    "       \n",
    "    z_1_sum = np.sum(z_1)\n",
    "    z_2_sum = np.sum(z_2)\n",
    "\n",
    "    err_points = np.abs(h-y)\n",
    "\n",
    "    err_cost_z_1 = np.squeeze(np.matmul(z_1.T, err_points))\n",
    "    err_cost_z_2 = np.squeeze(np.matmul(z_2.T, err_points))\n",
    "    overall_diff = z_1_sum/z_2_sum - 1\n",
    "    model_diff = (err_cost_z_1 - err_cost_z_2)/n\n",
    "    proxy_error = err_cost_z_1/z_1_sum - err_cost_z_2/z_2_sum\n",
    "    coef_dist = scaled_coef_distance(theta_1,theta_2,x)/(np.mean(z_1)*np.mean(z_2))\n",
    "    \n",
    "    return overall_diff, model_diff, proxy_error, coef_dist"
   ]
  },
  {
   "cell_type": "code",
   "execution_count": 10,
   "id": "500cc0c4",
   "metadata": {},
   "outputs": [],
   "source": [
    "def scaled_coef_distance(theta_1, theta_2, x):\n",
    "    outer_prod = np.outer(theta_1, theta_2)\n",
    "    n = x.shape[0]\n",
    "    coef_dist = []\n",
    "    \n",
    "    for m in range(n):\n",
    "        dist=0\n",
    "        prob_h = (n-m)/n\n",
    "        for i in range(outer_prod.shape[0]):\n",
    "            x_i = np.sort(x[:,i])\n",
    "            c_i_plus = np.mean(x_i[m:])\n",
    "            c_i_minus = np.mean(x_i[:(n-m)])\n",
    "            for j in range(i):\n",
    "                c_j = np.mean(x[:,j])\n",
    "                dist+= c_j*(outer_prod[i,j] - outer_prod[j,i])\n",
    "            if dist>0:\n",
    "                dist=dist*c_i_plus*prob_h\n",
    "            else:\n",
    "                dist=dist*c_i_minus*prob_h\n",
    "        coef_dist.append(dist)\n",
    "        \n",
    "    return np.max(coef_dist)"
   ]
  },
  {
   "cell_type": "code",
   "execution_count": 4,
   "id": "34f26e9f",
   "metadata": {},
   "outputs": [],
   "source": [
    "def synthetic_distribution_shift_experiments(trials, n, d, unit=False):\n",
    "    #Add intercept\n",
    "    intercept = np.ones(n).reshape(-1,1)\n",
    "           \n",
    "    discrepancy_total = []\n",
    "    discrepancy_h = []\n",
    "    discrepancy_proxy = []\n",
    "    coef_dist = []\n",
    "    for i in range(0,trials):\n",
    "        np.random.seed(i)\n",
    "        y = np.round(np.random.rand(n,1))\n",
    "        \n",
    "        theta_1 = np.random.rand(d,1)\n",
    "        theta_1 = theta_1/np.linalg.norm(theta_1)\n",
    "        \n",
    "        theta_2 = np.random.rand(d,1)\n",
    "        theta_2 = theta_2/np.linalg.norm(theta_2)\n",
    "        \n",
    "        x = np.random.rand(n,d)\n",
    "        if unit:\n",
    "            for j in range(0,n):\n",
    "                x[j,:] = x[j,:]/np.linalg.norm(x[j,:])\n",
    "                \n",
    "        overall_diff, model_diff, proxy_error, c_dist = evaluate_proxy_distribution_shift(x,y,theta_1,theta_2)\n",
    "       \n",
    "        discrepancy_total.append(overall_diff)\n",
    "        discrepancy_h.append(model_diff)\n",
    "        discrepancy_proxy.append(proxy_error)\n",
    "        coef_dist.append(c_dist)\n",
    "        \n",
    "    return discrepancy_total, discrepancy_h, discrepancy_proxy, coef_dist"
   ]
  },
  {
   "cell_type": "code",
   "execution_count": null,
   "id": "e0e9807d",
   "metadata": {},
   "outputs": [],
   "source": [
    "d_t, d_h, d_p, d_c = synthetic_distribution_shift_experiments(100,10,10, unit=False)"
   ]
  },
  {
   "cell_type": "code",
   "execution_count": 18,
   "id": "72855e6d",
   "metadata": {},
   "outputs": [
    {
     "data": {
      "text/plain": [
       "(array([ 2., 14., 22., 24., 17., 17.,  1.,  2.,  0.,  1.]),\n",
       " array([-0.17359366, -0.12377284, -0.07395203, -0.02413122,  0.02568959,\n",
       "         0.07551041,  0.12533122,  0.17515203,  0.22497284,  0.27479366,\n",
       "         0.32461447]),\n",
       " <BarContainer object of 10 artists>)"
      ]
     },
     "execution_count": 18,
     "metadata": {},
     "output_type": "execute_result"
    },
    {
     "data": {
      "image/png": "[encoded data removed]",
      "text/plain": [
       "<Figure size 432x288 with 1 Axes>"
      ]
     },
     "metadata": {
      "needs_background": "light"
     },
     "output_type": "display_data"
    }
   ],
   "source": [
    "plt.hist(d_t)"
   ]
  },
  {
   "cell_type": "code",
   "execution_count": 19,
   "id": "49612762",
   "metadata": {},
   "outputs": [
    {
     "data": {
      "text/plain": [
       "(array([ 1.,  3.,  9., 24., 23., 14., 15.,  7.,  2.,  2.]),\n",
       " array([-0.15334353, -0.12022369, -0.08710385, -0.05398401, -0.02086416,\n",
       "         0.01225568,  0.04537552,  0.07849536,  0.1116152 ,  0.14473505,\n",
       "         0.17785489]),\n",
       " <BarContainer object of 10 artists>)"
      ]
     },
     "execution_count": 19,
     "metadata": {},
     "output_type": "execute_result"
    },
    {
     "data": {
      "image/png": "[encoded data removed]",
      "text/plain": [
       "<Figure size 432x288 with 1 Axes>"
      ]
     },
     "metadata": {
      "needs_background": "light"
     },
     "output_type": "display_data"
    }
   ],
   "source": [
    "plt.hist(d_h)"
   ]
  },
  {
   "cell_type": "code",
   "execution_count": 21,
   "id": "14a0c64f",
   "metadata": {},
   "outputs": [
    {
     "data": {
      "text/plain": [
       "(array([ 4., 10., 13.,  8., 10.,  6., 13., 20.,  9.,  7.]),\n",
       " array([-0.03021257, -0.02434857, -0.01848456, -0.01262056, -0.00675655,\n",
       "        -0.00089255,  0.00497146,  0.01083547,  0.01669947,  0.02256348,\n",
       "         0.02842748]),\n",
       " <BarContainer object of 10 artists>)"
      ]
     },
     "execution_count": 21,
     "metadata": {},
     "output_type": "execute_result"
    },
    {
     "data": {
      "image/png": "[encoded data removed]",
      "text/plain": [
       "<Figure size 432x288 with 1 Axes>"
      ]
     },
     "metadata": {
      "needs_background": "light"
     },
     "output_type": "display_data"
    }
   ],
   "source": [
    "plt.hist(d_p)"
   ]
  },
  {
   "cell_type": "code",
   "execution_count": 22,
   "id": "0fc651a2",
   "metadata": {},
   "outputs": [
    {
     "data": {
      "text/plain": [
       "(array([56.,  9.,  5.,  7.,  4.,  4.,  7.,  1.,  4.,  3.]),\n",
       " array([-4.30368831e-05,  1.80764832e-02,  3.61960032e-02,  5.43155232e-02,\n",
       "         7.24350433e-02,  9.05545633e-02,  1.08674083e-01,  1.26793603e-01,\n",
       "         1.44913123e-01,  1.63032644e-01,  1.81152164e-01]),\n",
       " <BarContainer object of 10 artists>)"
      ]
     },
     "execution_count": 22,
     "metadata": {},
     "output_type": "execute_result"
    },
    {
     "data": {
      "image/png": "[encoded data removed]",
      "text/plain": [
       "<Figure size 432x288 with 1 Axes>"
      ]
     },
     "metadata": {
      "needs_background": "light"
     },
     "output_type": "display_data"
    }
   ],
   "source": [
    "plt.hist(d_c)"
   ]
  },
  {
   "cell_type": "code",
   "execution_count": 23,
   "id": "77846aa2",
   "metadata": {},
   "outputs": [
    {
     "data": {
      "text/plain": [
       "(array([25., 22., 18., 11.,  1.,  8.,  7.,  5.,  2.,  1.]),\n",
       " array([-0.02842815, -0.00536548,  0.01769718,  0.04075985,  0.06382252,\n",
       "         0.08688519,  0.10994786,  0.13301053,  0.15607319,  0.17913586,\n",
       "         0.20219853]),\n",
       " <BarContainer object of 10 artists>)"
      ]
     },
     "execution_count": 23,
     "metadata": {},
     "output_type": "execute_result"
    },
    {
     "data": {
      "image/png": "[encoded data removed]",
      "text/plain": [
       "<Figure size 432x288 with 1 Axes>"
      ]
     },
     "metadata": {
      "needs_background": "light"
     },
     "output_type": "display_data"
    }
   ],
   "source": [
    "plt.hist(np.subtract(d_c,d_p))"
   ]
  }
 ],
 "metadata": {
  "kernelspec": {
   "display_name": "Python 3",
   "language": "python",
   "name": "python3"
  },
  "language_info": {
   "codemirror_mode": {
    "name": "ipython",
    "version": 3
   },
   "file_extension": ".py",
   "mimetype": "text/x-python",
   "name": "python",
   "nbconvert_exporter": "python",
   "pygments_lexer": "ipython3",
   "version": "3.8.8"
  }
 },
 "nbformat": 4,
 "nbformat_minor": 5
}
